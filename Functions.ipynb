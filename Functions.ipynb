{
 "cells": [
  {
   "cell_type": "code",
   "execution_count": null,
   "id": "a4f238f2-5af1-4239-aac6-ff3ebbf9554d",
   "metadata": {},
   "outputs": [],
   "source": [
    "import matplotlib.pyplot as plt"
   ]
  },
  {
   "cell_type": "markdown",
   "id": "eacf106c-663a-4f49-95e7-a25ff879fbea",
   "metadata": {},
   "source": [
    "# SMA - Simple Moving Average"
   ]
  },
  {
   "cell_type": "code",
   "execution_count": null,
   "id": "f5ebd78e-b8c5-4c6c-93dd-a16aaac193f9",
   "metadata": {},
   "outputs": [],
   "source": [
    "def calculate_sma(source, length): \n",
    "    sma_values = [] # Initializes an empty list\n",
    "\n",
    "    for i in range(len(source)): # iterates through the indices of the source list\n",
    "        if i < length - 1: # current index i is less than length - 1 \n",
    "            sma_values.append(None)  # Appends None to the sma_values \n",
    "        else:\n",
    "            sma = sum(source[i - length + 1:i + 1]) / length # extract values through slice operationand divide\n",
    "            sma_values.append(sma) # append sma to sma_values\n",
    "\n",
    "    return sma_values \n"
   ]
  },
  {
   "cell_type": "code",
   "execution_count": null,
   "id": "9d902567-a8e8-43ee-b965-4a8ec0b551dd",
   "metadata": {},
   "outputs": [],
   "source": [
    "# source = [10, 15, 20, 25, 30, 35, 40, 45, 50, 55]\n",
    "# sma_length = 3\n",
    "\n",
    "# sma_result = calculate_sma(source, sma_length)\n",
    "# print(sma_result)"
   ]
  },
  {
   "cell_type": "code",
   "execution_count": null,
   "id": "d530a37f-3f27-4780-ad68-fdcf8319c921",
   "metadata": {},
   "outputs": [],
   "source": [
    "# plt.plot(sma_result);"
   ]
  },
  {
   "cell_type": "markdown",
   "id": "edcf2942-5cfd-4552-917a-6f9c90c8e289",
   "metadata": {},
   "source": [
    "# RMA - RSI Moving Average (relative strength index)"
   ]
  },
  {
   "cell_type": "code",
   "execution_count": null,
   "id": "9962c1df-03e9-4892-8ecc-373837398291",
   "metadata": {},
   "outputs": [],
   "source": [
    "def calculate_rma(source, length):\n",
    "    alpha = 1 / length # formula for alpha ( smoothing factor)\n",
    "    rma_values = [] # Initializes an empty list\n",
    "\n",
    "    for i in range(len(source)): # Iterates through each element\n",
    "        if i == 0: # Checks if it's the first element in the loop (index 0).\n",
    "            rma = source[i]  # rma is set equal to the value of the first element in the source list.\n",
    "        else:\n",
    "            rma = (1 - alpha) * source[i] + alpha * rma_values[i - 1] # formula to calculate rma\n",
    "\n",
    "        rma_values.append(rma) # append rma to rma_values\n",
    "\n",
    "    return rma_values\n"
   ]
  },
  {
   "cell_type": "code",
   "execution_count": null,
   "id": "f6f3b191-30e1-4fa7-95d9-0123674c6817",
   "metadata": {},
   "outputs": [],
   "source": [
    "# def calculate_rma(source, length):\n",
    "  \n",
    "#     if not isinstance(length, int) or length <= 0:\n",
    "#         raise ValueError(\"Length must be a positive integer.\")\n",
    "\n",
    "#     if not source:\n",
    "#         return []\n",
    "\n",
    "#     alpha = 1 / length  # Formula for alpha (smoothing factor)\n",
    "#     rma_values = [None] * length  # Initialize with None values\n",
    "\n",
    "#     for i in range(length, len(source)):\n",
    "#         if source[i] is None or rma_values[i - 1] is None:  # Handle None values\n",
    "#             rma_values.append(None)\n",
    "#         else:\n",
    "#             rma_values.append((1 - alpha) * source[i] + alpha * rma_values[i - 1])\n",
    "\n",
    "#     # Fill in the first few values after the loop\n",
    "#     for i in range(1, length):\n",
    "#         rma_values[i] = (1 - alpha) * source[i] + alpha * rma_values[i - 1]\n",
    "\n",
    "#     rma_values[0] = source[0]  # Update the first value\n",
    "\n",
    "#     return rma_values\n"
   ]
  },
  {
   "cell_type": "code",
   "execution_count": null,
   "id": "41715a9f-b65c-476b-b212-963a0e3820fc",
   "metadata": {},
   "outputs": [],
   "source": [
    "# source_data = [10, 12, 15, 18, 22, 20, 17, 14, 12, 10]\n",
    "# # rma_length = 3\n",
    "\n",
    "# rma_result = calculate_rma(source_data, rma_length)\n",
    "# print(rma_result)"
   ]
  },
  {
   "cell_type": "code",
   "execution_count": null,
   "id": "03086ec8-7803-4fae-87d9-c5f17cf64c49",
   "metadata": {},
   "outputs": [],
   "source": [
    "# plt.plot(rma_result);"
   ]
  },
  {
   "cell_type": "markdown",
   "id": "f7c03769-5cba-4ab7-b00e-331ac882fac5",
   "metadata": {},
   "source": [
    "# EMA - Exponential Moving Average "
   ]
  },
  {
   "cell_type": "code",
   "execution_count": null,
   "id": "4585b647-58ac-4273-a803-7fc103db728b",
   "metadata": {},
   "outputs": [],
   "source": [
    "def calculate_ema(source, length):\n",
    "    alpha = 2 / (length + 1) # formula for alpha (smoothing factor)\n",
    "    ema_values = [] # Initializes an empty list\n",
    "\n",
    "    for i in range(len(source)): # Iterates through each element\n",
    "        if i == 0: # # Checks if it's the first element in the loop (index 0).\n",
    "            ema = source[i] # ema is set equal to the value of the first element in the source list.\n",
    "        else:\n",
    "            ema = alpha * source[i] + (1 - alpha) * ema_values[i - 1] # # formula to calculate ema\n",
    "\n",
    "        ema_values.append(ema) # append ema to ema_values\n",
    "\n",
    "    return ema_values"
   ]
  },
  {
   "cell_type": "code",
   "execution_count": null,
   "id": "7f011b74-dde2-4450-b4f9-34e6693277c3",
   "metadata": {},
   "outputs": [],
   "source": [
    "# source_data = [10, 12, 15, 18, 22, 20, 17, 14, 12, 10]\n",
    "# ema_length = 3\n",
    "\n",
    "# ema_result = calculate_ema(source_data, ema_length)\n",
    "# print(ema_result)"
   ]
  },
  {
   "cell_type": "code",
   "execution_count": null,
   "id": "5ff3ac19-1480-472f-8aac-e37046f33aae",
   "metadata": {},
   "outputs": [],
   "source": [
    "# plt.plot(ema_result);"
   ]
  },
  {
   "cell_type": "markdown",
   "id": "031ca978-c6aa-4c36-acec-f731c044c4ca",
   "metadata": {},
   "source": [
    "# RSI - Relative Strength Index"
   ]
  },
  {
   "cell_type": "code",
   "execution_count": null,
   "id": "d610cd8e-cb26-48b5-8961-2353e6d8b8bb",
   "metadata": {},
   "outputs": [],
   "source": [
    "def calculate_rsi(source, length):\n",
    "     # Step 1: Calculate upward and downward changes\n",
    "    upward_changes = [max(0, source[i] - source[i - 1]) if i > 0 else 0 for i in range(len(source))]\n",
    "    downward_changes = [max(0, source[i - 1] - source[i]) if i > 0 else 0 for i in range(len(source))]\n",
    "    # Step 2: Calculate Exponential Moving Averages (EMAs) for upward and downward changes\n",
    "    upward_ema = calculate_rma(upward_changes, length)\n",
    "    downward_ema = calculate_rma(downward_changes, length)\n",
    "    # Step 3: Calculate Relative Strength (RS)\n",
    "    rs = [upward_ema[i] / downward_ema[i] if downward_ema[i] != 0 else 0 for i in range(len(upward_ema))]\n",
    "    # Step 4: Calculate Relative Strength Index (RSI)\n",
    "    rsi_values = [100 - (100 / (1 + rs_value)) if rs_value != 0 else 0 for rs_value in rs]\n",
    "    # Step 5: Return the calculated RSI values\n",
    "    return rsi_values"
   ]
  },
  {
   "cell_type": "code",
   "execution_count": null,
   "id": "fbc158be-d242-4ba8-9f53-7c5ae0a6b382",
   "metadata": {},
   "outputs": [],
   "source": [
    "# source = [10, 12, 15, 18, 22, 20, 17, 14, 12, 10]\n",
    "# rsi_length = 3\n",
    "\n",
    "# rsi_result = calculate_rsi(source, rsi_length)\n",
    "# print(rsi_result)"
   ]
  },
  {
   "cell_type": "code",
   "execution_count": null,
   "id": "d7337dc0-12ca-4007-910d-38961ba1d2b5",
   "metadata": {},
   "outputs": [],
   "source": [
    "# plt.plot(rsi_result);"
   ]
  },
  {
   "cell_type": "markdown",
   "id": "4d3d2e88-d0ab-47cf-a3e8-6dc63a9024a6",
   "metadata": {},
   "source": [
    "# MFI - Money Flow Index"
   ]
  },
  {
   "cell_type": "code",
   "execution_count": null,
   "id": "01affcd0-63d4-480b-aeec-a448fac7627f",
   "metadata": {},
   "outputs": [],
   "source": [
    "def calculate_mfi(highs, lows, closes, volumes, length):\n",
    "    typical_prices = [(high + low + close) / 3 for high, low, close in zip(highs, lows, closes)]\n",
    "    raw_money_flow = [tp * volume for tp, volume in zip(typical_prices, volumes)]\n",
    "\n",
    "    # positive_money_flow = [rmf if close > closes[i - 1] else 0 for i, (rmf, close) in enumerate(zip(raw_money_flow, closes))]\n",
    "    positive_money_flow = [rmf if i > 0 and close > closes[i - 1] else 0 for i, (rmf, close) in enumerate(zip(raw_money_flow, closes))]\n",
    "\n",
    "    # negative_money_flow = [rmf if close < closes[i - 1] else 0 for i, (rmf, close) in enumerate(zip(raw_money_flow, closes))]\n",
    "    negative_money_flow = [rmf if i > 0 and close < closes[i - 1] else 0 for i, (rmf, close) in enumerate(zip(raw_money_flow, closes))]\n",
    "\n",
    "\n",
    "    mfr_values = []\n",
    "    for i in range(length, len(typical_prices)):\n",
    "        sum_pmf = sum(positive_money_flow[i - length + 1 : i + 1])\n",
    "        sum_nmf = sum(negative_money_flow[i - length + 1 : i + 1])\n",
    "\n",
    "        if sum_nmf == 0:\n",
    "            mfr = 100  \n",
    "        else:\n",
    "            mfr = sum_pmf / sum_nmf\n",
    "\n",
    "        mfr_values.append(mfr)\n",
    "\n",
    "    mfi_values = [100 - (100 / (1 + mfr)) for mfr in mfr_values]\n",
    "\n",
    "    return [None] * (length - 1) + mfi_values\n",
    "\n",
    "\n",
    "\n"
   ]
  },
  {
   "cell_type": "code",
   "execution_count": null,
   "id": "59096072-0a9d-442c-8d7d-6bf1ba5e3559",
   "metadata": {},
   "outputs": [],
   "source": [
    "# highs = [50, 55, 60, 58, 62, 65, 70, 68, 72, 75, 80, 78, 82]\n",
    "# lows = [45, 50, 55, 52, 57, 60, 62, 58, 65, 70, 75, 72, 78]\n",
    "# closes = [48, 53, 58, 56, 60, 63, 68, 66, 70, 73, 78, 76, 80]\n",
    "# volumes = [100000, 120000, 150000, 110000, 130000, 140000, 160000, 180000, 200000, 190000, 220000, 210000, 230000]\n",
    "# mfi_length = 7\n",
    "\n",
    "# mfi_result = calculate_mfi(highs, lows, closes, volumes, mfi_length)\n",
    "# print(mfi_result)\n"
   ]
  },
  {
   "cell_type": "code",
   "execution_count": null,
   "id": "add584bb-951e-49ce-90ea-3dba71349c5d",
   "metadata": {},
   "outputs": [],
   "source": [
    "# plt.plot(mfi_result);"
   ]
  },
  {
   "cell_type": "markdown",
   "id": "7907a9c4-37a8-4e4e-852a-586e6810b597",
   "metadata": {},
   "source": [
    "# HMA - Hull Moving Average"
   ]
  },
  {
   "cell_type": "code",
   "execution_count": null,
   "id": "952cdff2-366a-4446-a22e-f147e334ca32",
   "metadata": {},
   "outputs": [],
   "source": [
    "import numpy as np\n",
    "\n",
    "def calculate_wma(source, length):\n",
    "    if length == 1:\n",
    "        return np.array(source)\n",
    "    weights = np.arange(1, length + 1)\n",
    "    wma = np.convolve(source, weights, mode='valid') / weights.sum()\n",
    "    return wma\n",
    "\n",
    "def calculate_hma(source, length):\n",
    "    half_length = int(length / 2)\n",
    "    sqrt_length = int(np.sqrt(length))\n",
    "\n",
    "    wma1 = calculate_wma(source, half_length)\n",
    "    wma2 = calculate_wma(wma1, sqrt_length)\n",
    "    wma3 = calculate_wma(source, length)\n",
    "\n",
    "    min_len = min(len(wma1), len(wma2), len(wma3))\n",
    "\n",
    "    hma = 2 * wma3[:min_len] - wma2[:min_len]\n",
    "\n",
    "    return hma"
   ]
  },
  {
   "cell_type": "code",
   "execution_count": null,
   "id": "200fd511-73a1-4a85-860e-77c4e66e009a",
   "metadata": {},
   "outputs": [],
   "source": [
    "# source = [10, 12, 15, 18, 22, 20, 17, 14, 12, 10]\n",
    "# hma_length = 9\n",
    "\n",
    "# hma_result = calculate_hma(source, hma_length)\n",
    "# print(hma_result)\n"
   ]
  },
  {
   "cell_type": "code",
   "execution_count": null,
   "id": "b513fbfb-7e52-4e95-987d-c2b4d7f237d6",
   "metadata": {},
   "outputs": [],
   "source": [
    "# plt.plot(hma_result);"
   ]
  },
  {
   "cell_type": "markdown",
   "id": "03c2e760-a3f3-4864-ba38-814a80a237b4",
   "metadata": {},
   "source": [
    "# VWAP - Volume Weighted Average Price"
   ]
  },
  {
   "cell_type": "code",
   "execution_count": null,
   "id": "868552f0-2c76-4ad1-9eb7-88754270019d",
   "metadata": {},
   "outputs": [],
   "source": [
    "import numpy as np\n",
    "\n",
    "def calculate_vwap(source, volumes):\n",
    "    source = np.array(source)\n",
    "    volumes = np.array(volumes)\n",
    "\n",
    "    cumulative_price_volume = np.cumsum(source * volumes)\n",
    "    cumulative_volume = np.cumsum(volumes)\n",
    "\n",
    "    vwap = cumulative_price_volume / cumulative_volume\n",
    "\n",
    "    return vwap\n"
   ]
  },
  {
   "cell_type": "code",
   "execution_count": null,
   "id": "da51395b-7304-4414-a4e3-0078cbd65e82",
   "metadata": {},
   "outputs": [],
   "source": [
    "# closing_prices = [50, 55, 60, 58, 62]\n",
    "# trading_volumes = [100000, 120000, 150000, 110000, 130000]\n",
    "\n",
    "# vwap_result = calculate_vwap(closing_prices, trading_volumes)\n",
    "# print(vwap_result[-1]) "
   ]
  }
 ],
 "metadata": {
  "kernelspec": {
   "display_name": "Python 3 (ipykernel)",
   "language": "python",
   "name": "python3"
  },
  "language_info": {
   "codemirror_mode": {
    "name": "ipython",
    "version": 3
   },
   "file_extension": ".py",
   "mimetype": "text/x-python",
   "name": "python",
   "nbconvert_exporter": "python",
   "pygments_lexer": "ipython3",
   "version": "3.11.7"
  }
 },
 "nbformat": 4,
 "nbformat_minor": 5
}
